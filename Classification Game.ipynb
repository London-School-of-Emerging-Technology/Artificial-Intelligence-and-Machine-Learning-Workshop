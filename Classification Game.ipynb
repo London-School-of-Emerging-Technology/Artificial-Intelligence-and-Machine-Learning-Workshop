{
 "cells": [
  {
   "cell_type": "code",
   "execution_count": null,
   "id": "562ab502-4ee9-42b0-803f-1e4f5d8bdedf",
   "metadata": {},
   "outputs": [],
   "source": [
    "import random\n",
    "\n",
    "def classification_game():\n",
    "    items = {\n",
    "        \"Elephant\": \"Animal\",\n",
    "        \"Banana\": \"Fruit\",\n",
    "        \"Car\": \"Vehicle\",\n",
    "        \"Dog\": \"Animal\",\n",
    "        \"Apple\": \"Fruit\",\n",
    "        \"Bike\": \"Vehicle\",\n",
    "        \"Tiger\": \"Animal\",\n",
    "        \"Mango\": \"Fruit\",\n",
    "        \"Bus\": \"Vehicle\"\n",
    "    }\n",
    "    \n",
    "    score = 0\n",
    "    rounds = 5  # Number of questions\n",
    "    print(\"\\n🎯 Welcome to the Classification Game! 🎯\\n\")\n",
    "    print(\"Type the correct category: Animal, Fruit, or Vehicle\\n\")\n",
    "    \n",
    "    for _ in range(rounds):\n",
    "        item = random.choice(list(items.keys()))\n",
    "        answer = input(f\"What category does '{item}' belong to? \").strip().capitalize()\n",
    "        \n",
    "        if answer == items[item]:\n",
    "            print(\"✅ Correct!\")\n",
    "            score += 1\n",
    "        else:\n",
    "            print(f\"❌ Wrong! The correct answer is {items[item]}.\")\n",
    "        \n",
    "        print(\"\\n---------------------\\n\")\n",
    "    \n",
    "    print(f\"Game Over! 🎉 Your Final Score: {score}/{rounds}\\n\")\n",
    "\n",
    "# Run the game\n",
    "classification_game()"
   ]
  }
 ],
 "metadata": {
  "kernelspec": {
   "display_name": "Python 3 (ipykernel)",
   "language": "python",
   "name": "python3"
  },
  "language_info": {
   "name": ""
  }
 },
 "nbformat": 4,
 "nbformat_minor": 5
}
