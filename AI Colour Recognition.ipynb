{
 "cells": [
  {
   "cell_type": "code",
   "execution_count": 1,
   "id": "c4e53e66-c8a7-43e3-978e-200bb8dccc86",
   "metadata": {},
   "outputs": [
    {
     "name": "stdout",
     "output_type": "stream",
     "text": [
      "Enter RGB values (0-255) for the colour you want to classify:\n"
     ]
    },
    {
     "name": "stdin",
     "output_type": "stream",
     "text": [
      "Enter Red value (0-255):  255\n",
      "Enter Green value (0-255):  255\n",
      "Enter Blue value (0-255):  55\n"
     ]
    },
    {
     "name": "stdout",
     "output_type": "stream",
     "text": [
      "The AI predicts: Yellow 🎨\n"
     ]
    }
   ],
   "source": [
    "import numpy as np\n",
    "from sklearn.neighbors import KNeighborsClassifier\n",
    "\n",
    "# Define colour data: [Red, Green, Blue]\n",
    "X = np.array([\n",
    "    [255, 0, 0],    # Red\n",
    "    [0, 0, 255],    # Blue\n",
    "    [255, 255, 0],  # Yellow\n",
    "    [200, 0, 0],    # Red\n",
    "    [0, 0, 200],    # Blue\n",
    "    [230, 230, 0]   # Yellow\n",
    "])\n",
    "\n",
    "# Labels (0: Red, 1: Blue, 2: Yellow)\n",
    "y = np.array([0, 1, 2, 0, 1, 2])\n",
    "\n",
    "# Train the AI using K-Nearest Neighbors (KNN)\n",
    "model = KNeighborsClassifier(n_neighbors=3)\n",
    "model.fit(X, y)\n",
    "\n",
    "# Ask the user to enter RGB values\n",
    "print(\"Enter RGB values (0-255) for the colour you want to classify:\")\n",
    "r = int(input(\"Enter Red value (0-255): \"))\n",
    "g = int(input(\"Enter Green value (0-255): \"))\n",
    "b = int(input(\"Enter Blue value (0-255): \"))\n",
    "\n",
    "# Convert user input into an array\n",
    "new_colour = np.array([[r, g, b]])\n",
    "\n",
    "# Predict the colour\n",
    "prediction = model.predict(new_colour)\n",
    "\n",
    "# Dictionary to match numbers to colour names\n",
    "colours = {0: \"Red\", 1: \"Blue\", 2: \"Yellow\"}\n",
    "\n",
    "# Display AI’s Guess\n",
    "print(f\"The AI predicts: {colours[prediction[0]]} 🎨\")"
   ]
  },
  {
   "cell_type": "code",
   "execution_count": null,
   "id": "9f253c5e-4bfd-4246-b1bd-9379349bd5db",
   "metadata": {},
   "outputs": [],
   "source": []
  }
 ],
 "metadata": {
  "kernelspec": {
   "display_name": "Python 3 (ipykernel)",
   "language": "python",
   "name": "python3"
  },
  "language_info": {
   "codemirror_mode": {
    "name": "ipython",
    "version": 3
   },
   "file_extension": ".py",
   "mimetype": "text/x-python",
   "name": "python",
   "nbconvert_exporter": "python",
   "pygments_lexer": "ipython3",
   "version": "3.12.7"
  }
 },
 "nbformat": 4,
 "nbformat_minor": 5
}
