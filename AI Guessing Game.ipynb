{
 "cells": [
  {
   "cell_type": "code",
   "execution_count": 1,
   "id": "b04de8fe-3298-46eb-9d0e-20ae107f7a80",
   "metadata": {},
   "outputs": [
    {
     "name": "stdout",
     "output_type": "stream",
     "text": [
      "Think of an object! Answer these questions with 1 (Yes) or 0 (No):\n"
     ]
    },
    {
     "name": "stdin",
     "output_type": "stream",
     "text": [
      "Does it have wheels? (1 = Yes, 0 = No):  1\n",
      "Can it fly? (1 = Yes, 0 = No):  1\n",
      "Is it an animal? (1 = Yes, 0 = No):  0\n"
     ]
    },
    {
     "name": "stdout",
     "output_type": "stream",
     "text": [
      "The AI guesses: Airplane \n"
     ]
    }
   ],
   "source": [
    "import numpy as np\n",
    "from sklearn.tree import DecisionTreeClassifier\n",
    "\n",
    "# Define object data (features: [Has Wheels, Can Fly, Is Animal])\n",
    "X = np.array([\n",
    "    [1, 0, 0],  # Car\n",
    "    [1, 1, 0],  # Airplane\n",
    "    [0, 0, 1],  # Dog\n",
    "    [0, 1, 0],  # Bird\n",
    "    [1, 0, 0]   # Bike\n",
    "])\n",
    "\n",
    "# Labels (0: Car, 1: Airplane, 2: Dog, 3: Bird, 4: Bike)\n",
    "y = np.array([0, 1, 2, 3, 4])\n",
    "\n",
    "# Train the AI using Decision Tree\n",
    "model = DecisionTreeClassifier()\n",
    "model.fit(X, y)\n",
    "\n",
    "# Ask the user questions\n",
    "print(\"Think of an object! Answer these questions with 1 (Yes) or 0 (No):\")\n",
    "wheels = int(input(\"Does it have wheels? (1 = Yes, 0 = No): \"))\n",
    "fly = int(input(\"Can it fly? (1 = Yes, 0 = No): \"))\n",
    "animal = int(input(\"Is it an animal? (1 = Yes, 0 = No): \"))\n",
    "\n",
    "# Convert user input into an array\n",
    "user_input = np.array([[wheels, fly, animal]])\n",
    "\n",
    "# Predict the object\n",
    "prediction = model.predict(user_input)\n",
    "\n",
    "# Dictionary to match numbers to object names\n",
    "objects = {0: \"Car\", 1: \"Airplane\", 2: \"Dog\", 3: \"Bird\", 4: \"Bike\"}\n",
    "\n",
    "# Display AI’s Guess\n",
    "print(f\"The AI guesses: {objects[prediction[0]]} \")"
   ]
  },
  {
   "cell_type": "code",
   "execution_count": null,
   "id": "7bbd2cc5-59e9-4c6e-bffd-4334a3f624d6",
   "metadata": {},
   "outputs": [],
   "source": []
  }
 ],
 "metadata": {
  "kernelspec": {
   "display_name": "Python 3 (ipykernel)",
   "language": "python",
   "name": "python3"
  },
  "language_info": {
   "codemirror_mode": {
    "name": "ipython",
    "version": 3
   },
   "file_extension": ".py",
   "mimetype": "text/x-python",
   "name": "python",
   "nbconvert_exporter": "python",
   "pygments_lexer": "ipython3",
   "version": "3.12.7"
  }
 },
 "nbformat": 4,
 "nbformat_minor": 5
}
