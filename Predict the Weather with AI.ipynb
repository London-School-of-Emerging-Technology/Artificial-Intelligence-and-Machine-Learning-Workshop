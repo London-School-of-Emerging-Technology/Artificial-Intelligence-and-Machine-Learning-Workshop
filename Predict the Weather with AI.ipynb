{
 "cells": [
  {
   "cell_type": "code",
   "execution_count": 1,
   "id": "471936d6-77d2-4d0f-bf72-a364f873a5e6",
   "metadata": {},
   "outputs": [
    {
     "name": "stdout",
     "output_type": "stream",
     "text": [
      "Enter today's weather conditions:\n"
     ]
    },
    {
     "name": "stdin",
     "output_type": "stream",
     "text": [
      "Cloud Cover percentage (0-100):  50\n",
      "Wind Speed in km/h:  5\n"
     ]
    },
    {
     "name": "stdout",
     "output_type": "stream",
     "text": [
      "The AI predicts a 60.86% chance of rain. ☁️\n"
     ]
    }
   ],
   "source": [
    "import numpy as np\n",
    "from sklearn.linear_model import LinearRegression\n",
    "\n",
    "# Define weather data: [Cloud Cover (%), Wind Speed (km/h)]\n",
    "X = np.array([\n",
    "    [20, 5],    # Sunny\n",
    "    [50, 10],   # Cloudy\n",
    "    [80, 15],   # Rainy\n",
    "    [30, 7],    # Partly Cloudy\n",
    "    [90, 20],   # Storm\n",
    "    [60, 12]    # Overcast\n",
    "])\n",
    "\n",
    "# Labels: Probability of Rain (%)\n",
    "y = np.array([10, 40, 90, 20, 95, 70])\n",
    "\n",
    "# Train the AI using Linear Regression\n",
    "model = LinearRegression()\n",
    "model.fit(X, y)\n",
    "\n",
    "# Ask the user for today's weather conditions\n",
    "print(\"Enter today's weather conditions:\")\n",
    "clouds = int(input(\"Cloud Cover percentage (0-100): \"))\n",
    "wind = int(input(\"Wind Speed in km/h: \"))\n",
    "\n",
    "# Convert user input into an array\n",
    "new_weather = np.array([[clouds, wind]])\n",
    "\n",
    "# Predict the probability of rain\n",
    "prediction = model.predict(new_weather)\n",
    "\n",
    "# Display AI’s Guess\n",
    "print(f\"The AI predicts a {round(prediction[0], 2)}% chance of rain. ☁️\")"
   ]
  },
  {
   "cell_type": "code",
   "execution_count": null,
   "id": "6c3fb017-752d-4e4c-a1c8-895c2f9c2900",
   "metadata": {},
   "outputs": [],
   "source": []
  }
 ],
 "metadata": {
  "kernelspec": {
   "display_name": "Python 3 (ipykernel)",
   "language": "python",
   "name": "python3"
  },
  "language_info": {
   "codemirror_mode": {
    "name": "ipython",
    "version": 3
   },
   "file_extension": ".py",
   "mimetype": "text/x-python",
   "name": "python",
   "nbconvert_exporter": "python",
   "pygments_lexer": "ipython3",
   "version": "3.12.7"
  }
 },
 "nbformat": 4,
 "nbformat_minor": 5
}
